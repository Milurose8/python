{
  "nbformat": 4,
  "nbformat_minor": 0,
  "metadata": {
    "colab": {
      "name": "PYTHON",
      "provenance": [],
      "collapsed_sections": [],
      "authorship_tag": "ABX9TyOmASTDIWaVBJUuUaoFMHKh"
    },
    "kernelspec": {
      "name": "python3",
      "display_name": "Python 3"
    }
  },
  "cells": [
    {
      "cell_type": "code",
      "metadata": {
        "colab": {
          "base_uri": "https://localhost:8080/"
        },
        "id": "_t-AI6ynm1dZ",
        "outputId": "900e2d70-ac69-430e-8c9c-8158f05810df"
      },
      "source": [
        "print(\"Hello, World!\")"
      ],
      "execution_count": null,
      "outputs": [
        {
          "output_type": "stream",
          "text": [
            "Hello, World!\n"
          ],
          "name": "stdout"
        }
      ]
    },
    {
      "cell_type": "code",
      "metadata": {
        "colab": {
          "base_uri": "https://localhost:8080/"
        },
        "id": "0ZMvhN08hUIr",
        "outputId": "31755751-2dec-41ad-c7d4-0a38855ec248"
      },
      "source": [
        "a=1\r\n",
        "print(\"The value of\",a,\"is of the type\",type(a))\r\n",
        "b=\"hello\"\r\n",
        "print(\"The value of\",b,\"is of the type\",type(b))\r\n",
        "c=3.14\r\n",
        "print(\"The value of\",c,\"is of the type\",type(c))\r\n",
        "d=2j\r\n",
        "print(\"The value of\",d,\"is of the type\",type(d))\r\n",
        "e={\"apple\",\"banana\",\"cherry\"}\r\n",
        "print(\"The value of\",e,\"is of the type\",type(e))\r\n",
        "f=(\"apple\",\"banana\",\"cherry\")\r\n",
        "print(\"The value of\",f,\"is of the type\",type(f))\r\n",
        "g=[\"apple\",\"banana\",\"cherry\"]\r\n",
        "print(\"The value of\",g,\"is the of type\",type(g))\r\n",
        "h=range(5)\r\n",
        "print(\"The value of\",h,\"is of the type\",type(h))\r\n",
        "i=True\r\n",
        "print(\"The value of\",i,\"is of the type\",type(i))\r\n",
        "        \r\n"
      ],
      "execution_count": null,
      "outputs": [
        {
          "output_type": "stream",
          "text": [
            "The value of 1 is of the type <class 'int'>\n",
            "The value of hello is of the type <class 'str'>\n",
            "The value of 3.14 is of the type <class 'float'>\n",
            "The value of 2j is of the type <class 'complex'>\n",
            "The value of {'banana', 'apple', 'cherry'} is of the type <class 'set'>\n",
            "The value of ('apple', 'banana', 'cherry') is of the type <class 'tuple'>\n",
            "The value of ['apple', 'banana', 'cherry'] is the of type <class 'list'>\n",
            "The value of range(0, 5) is of the type <class 'range'>\n",
            "The value of True is of the type <class 'bool'>\n"
          ],
          "name": "stdout"
        }
      ]
    },
    {
      "cell_type": "code",
      "metadata": {
        "id": "X0hcGnXfoT4z",
        "colab": {
          "base_uri": "https://localhost:8080/"
        },
        "outputId": "77425073-1ee0-4200-909d-9566068ff284"
      },
      "source": [
        "num=int(input(\"Enter the integer:\"))\r\n",
        "print(\"You Entered\",num)"
      ],
      "execution_count": 4,
      "outputs": [
        {
          "output_type": "stream",
          "text": [
            "Enter the integer:4\n",
            "You Entered 4\n"
          ],
          "name": "stdout"
        }
      ]
    },
    {
      "cell_type": "code",
      "metadata": {
        "colab": {
          "base_uri": "https://localhost:8080/"
        },
        "id": "KsXDjjGnoqtp",
        "outputId": "6a63e552-737c-4e6e-bdd2-a2acd51a5103"
      },
      "source": [
        "num1=5\r\n",
        "num2=7\r\n",
        "sum=num1+num2\r\n",
        "print(\"The sum of given numbers is:\",sum)"
      ],
      "execution_count": 5,
      "outputs": [
        {
          "output_type": "stream",
          "text": [
            "The sum of given numbers is: 12\n"
          ],
          "name": "stdout"
        }
      ]
    },
    {
      "cell_type": "code",
      "metadata": {
        "colab": {
          "base_uri": "https://localhost:8080/"
        },
        "id": "7VxdgH5BpB9M",
        "outputId": "c10e045d-8f58-474c-bb70-8699a4da5609"
      },
      "source": [
        "num1=float(input(\"Enter first number:\"))\r\n",
        "num2=float(input(\"Enter second number:\"))\r\n",
        "mul=num1*num2\r\n",
        "print(\"The product of given number is:\",mul)\r\n"
      ],
      "execution_count": 6,
      "outputs": [
        {
          "output_type": "stream",
          "text": [
            "Enter first number:4.6\n",
            "Enter second number:8.9\n",
            "The product of given number is: 40.94\n"
          ],
          "name": "stdout"
        }
      ]
    },
    {
      "cell_type": "code",
      "metadata": {
        "id": "ByHCG_mSdfLr",
        "colab": {
          "base_uri": "https://localhost:8080/"
        },
        "outputId": "03359070-50d0-414d-9ce1-43fb8c63b4c4"
      },
      "source": [
        "x=int(input(\"Enter a number \\n\"))\r\n",
        "if (x % 2) == 0:\r\n",
        "   print(\"{0} is even\".format(x))\r\n",
        "else:\r\n",
        "    print(\"{0} is odd\".format(x))"
      ],
      "execution_count": null,
      "outputs": [
        {
          "output_type": "stream",
          "text": [
            "Enter a number \n",
            "2\n",
            "2 is even\n"
          ],
          "name": "stdout"
        }
      ]
    },
    {
      "cell_type": "code",
      "metadata": {
        "colab": {
          "base_uri": "https://localhost:8080/"
        },
        "id": "Dcj_9v82YBhb",
        "outputId": "c4d798ab-f9b2-4bbf-f236-fb3f82794fa7"
      },
      "source": [
        "print(\"Enter 3 numbers \\n\")\r\n",
        "x=int(input())\r\n",
        "y=int(input())\r\n",
        "z=int(input())\r\n",
        "if(x>y and x>z):\r\n",
        "  print(\"{0} is the greatest among the given 3 numbers\".format(x))\r\n",
        "if(y>x and y>z):\r\n",
        "  print(\"{0} is the greatest among the given 3 numbers\".format(y))\r\n",
        "else:\r\n",
        "    print(\"{0} is the greatest among the given 3 numbers\".format(z))"
      ],
      "execution_count": null,
      "outputs": [
        {
          "output_type": "stream",
          "text": [
            "Enter 3 numbers \n",
            "\n",
            "4\n",
            "6\n",
            "3\n",
            "6 is the greatest among the given 3 numbers\n"
          ],
          "name": "stdout"
        }
      ]
    },
    {
      "cell_type": "code",
      "metadata": {
        "id": "vMcVAfwGqTXh",
        "colab": {
          "base_uri": "https://localhost:8080/"
        },
        "outputId": "1467be5b-2c27-4abf-8448-437403c75a6c"
      },
      "source": [
        "x=(input(\"Enter your alphabet \\n\"))\r\n",
        "if(x=='a' or x=='e' or x=='i'or x=='o' or x=='u' or x=='A' or x=='E' or x=='I' or x=='O' or x=='U'):\r\n",
        "  print(x,\"is a vowel\")\r\n",
        "else:\r\n",
        "  print(x,\"is a consonant\")"
      ],
      "execution_count": null,
      "outputs": [
        {
          "output_type": "stream",
          "text": [
            "Enter your alphabet \n",
            "A\n",
            "A is a vowel\n"
          ],
          "name": "stdout"
        }
      ]
    },
    {
      "cell_type": "code",
      "metadata": {
        "colab": {
          "base_uri": "https://localhost:8080/"
        },
        "id": "iNvMNS4Xab0w",
        "outputId": "9d9969d1-faa9-4313-fee9-c1fac43da1b2"
      },
      "source": [
        "x=int(input(\"Enter the year \\n\"))\r\n",
        "if(x%4==0 and x%400==0 and x%100==0):\r\n",
        "  print(x,\" is a leap year\")\r\n",
        "else:\r\n",
        "  print(x,\"is not a leap year\")"
      ],
      "execution_count": null,
      "outputs": [
        {
          "output_type": "stream",
          "text": [
            "Enter the year \n",
            "2012\n",
            "2012 is not a leap year\n"
          ],
          "name": "stdout"
        }
      ]
    },
    {
      "cell_type": "code",
      "metadata": {
        "colab": {
          "base_uri": "https://localhost:8080/"
        },
        "id": "tIA2IvezbtaE",
        "outputId": "55f2aba7-b2b7-4381-f331-3a73c7f723f9"
      },
      "source": [
        "x=int(input(\"Enter your number \\n\"))\r\n",
        "if x>0:\r\n",
        "  print(\"{0} is a positive number\".format(x))\r\n",
        "elif x==0:\r\n",
        "  print(\"The entered number is zero\")\r\n",
        "else:\r\n",
        "  print(\"{0} is a negative number\".format(x))"
      ],
      "execution_count": null,
      "outputs": [
        {
          "output_type": "stream",
          "text": [
            "Enter your number \n",
            "8\n",
            "8 is a positive number\n"
          ],
          "name": "stdout"
        }
      ]
    },
    {
      "cell_type": "code",
      "metadata": {
        "colab": {
          "base_uri": "https://localhost:8080/"
        },
        "id": "lYVM-SGYKYLd",
        "outputId": "266bcc60-14c7-4988-c2f2-5303555df04d"
      },
      "source": [
        "n=int(input(\"Enter a number:\\n\"))\r\n",
        "if n<0:\r\n",
        "  print(\"Enter any positive number\")\r\n",
        "else:\r\n",
        "  sum=0\r\n",
        "while (n>0):\r\n",
        "  sum+=n\r\n",
        "  n=n-1\r\n",
        "print(\"The sum is\",sum)"
      ],
      "execution_count": null,
      "outputs": [
        {
          "output_type": "stream",
          "text": [
            "Enter a number:\n",
            "5\n",
            "The sum is 15\n"
          ],
          "name": "stdout"
        }
      ]
    },
    {
      "cell_type": "code",
      "metadata": {
        "colab": {
          "base_uri": "https://localhost:8080/"
        },
        "id": "K7ZAoTAaRJp0",
        "outputId": "377cef49-5370-4373-ae17-4c7bc06b5086"
      },
      "source": [
        "num=int(input(\"Enter a number \\n\"))\r\n",
        "factorial =1\r\n",
        "if num<0:\r\n",
        "  print(\"Factorial does not exist for negative numbers\")\r\n",
        "elif num ==0:\r\n",
        "  print(\"The factorial of 0 is 1\")\r\n",
        "else:\r\n",
        "  for i in range(1,num+1):\r\n",
        "    factorial=factorial*i\r\n",
        "  print(\"The factorial of\",num,\"is\",factorial)"
      ],
      "execution_count": null,
      "outputs": [
        {
          "output_type": "stream",
          "text": [
            "Enter a number \n",
            "5\n",
            "The factorial of 5 is 120\n"
          ],
          "name": "stdout"
        }
      ]
    },
    {
      "cell_type": "code",
      "metadata": {
        "colab": {
          "base_uri": "https://localhost:8080/"
        },
        "id": "1Hol7zEfVZfr",
        "outputId": "4deaaa2b-c5e3-42de-9103-5b360eca7b3f"
      },
      "source": [
        "n=int(input(\"Enter number of terms \"))\r\n",
        "a=0\r\n",
        "b=1\r\n",
        "count=0\r\n",
        "if n<=0:\r\n",
        "  print(\"Enter a positive integer\")\r\n",
        "elif n == 1:\r\n",
        "  print(\"Fibonnaci sequence upto\",n)\r\n",
        "  print(a)\r\n",
        "else:\r\n",
        "  print(\"Fibonnaci sequence:\")\r\n",
        "  while (count<n:)\r\n",
        "    print(a)\r\n",
        "    c=a+b\r\n",
        "    a=b\r\n",
        "    b=c\r\n",
        "    count+=1\r\n"
      ],
      "execution_count": null,
      "outputs": [
        {
          "output_type": "stream",
          "text": [
            "Enter number of terms 7\n",
            "Fibonnaci sequence:\n",
            "0\n",
            "1\n",
            "1\n",
            "2\n",
            "3\n",
            "5\n",
            "8\n"
          ],
          "name": "stdout"
        }
      ]
    },
    {
      "cell_type": "code",
      "metadata": {
        "colab": {
          "base_uri": "https://localhost:8080/"
        },
        "id": "xbMuG_71coiQ",
        "outputId": "c9c0afb3-7498-48d7-ed8e-553f045c9b53"
      },
      "source": [
        "n=int(input(\"Enter number:\"))\r\n",
        "count=0\r\n",
        "while(n>0):\r\n",
        "  n=n//10\r\n",
        "  count=count+1\r\n",
        "print(\"Total number of digits:\",count)"
      ],
      "execution_count": null,
      "outputs": [
        {
          "output_type": "stream",
          "text": [
            "Enter number:12345\n",
            "Total number of digits: 5\n"
          ],
          "name": "stdout"
        }
      ]
    },
    {
      "cell_type": "code",
      "metadata": {
        "colab": {
          "base_uri": "https://localhost:8080/"
        },
        "id": "mTXqcJ2Rdk88",
        "outputId": "ec8ac83d-b1ac-4dbc-de25-9493e26cb2d8"
      },
      "source": [
        "num=int(input(\"Enter number:\"))\r\n",
        "n=int(input(\"power value:\"))\r\n",
        "power=num**n\r\n",
        "print(\"power of number:\",power)"
      ],
      "execution_count": null,
      "outputs": [
        {
          "output_type": "stream",
          "text": [
            "Enter number:15\n",
            "power value:2\n",
            "power of number: 225\n"
          ],
          "name": "stdout"
        }
      ]
    },
    {
      "cell_type": "code",
      "metadata": {
        "colab": {
          "base_uri": "https://localhost:8080/"
        },
        "id": "iek7chjZW3Cb",
        "outputId": "7337f58c-a7ae-48cb-9345-ff872db5c69c"
      },
      "source": [
        "n=int(input(\"Enter number:\"))\r\n",
        "rev=0;\r\n",
        "while (n>0): \r\n",
        "  rem=n%10;\r\n",
        "  rev=rev*10+rem;\r\n",
        "  n=n//10;\r\n",
        "print(\"Reverse of number:\",rev);\r\n"
      ],
      "execution_count": null,
      "outputs": [
        {
          "output_type": "stream",
          "text": [
            "Enter number:123\n",
            "Reverse of number: 321\n"
          ],
          "name": "stdout"
        }
      ]
    },
    {
      "cell_type": "code",
      "metadata": {
        "colab": {
          "base_uri": "https://localhost:8080/"
        },
        "id": "tJq2WkrGq3cA",
        "outputId": "eedad7ff-dc1c-44c9-f8b4-0c3e47d93b7d"
      },
      "source": [
        "x=int(input(\"Enter value of x:\"))\r\n",
        "y=int(input(\"Enter value of y:\"))\r\n",
        "temp=x\r\n",
        "x=y\r\n",
        "y=temp\r\n",
        "print(\"The value of x after swapping:{}\".format(x))\r\n",
        "print(\"The value of y after swapping:{}\".format(y))"
      ],
      "execution_count": null,
      "outputs": [
        {
          "output_type": "stream",
          "text": [
            "Enter value of x:10\n",
            "Enter value of y:5\n",
            "The value of x after swapping:5\n",
            "The value of y after swapping:10\n"
          ],
          "name": "stdout"
        }
      ]
    },
    {
      "cell_type": "code",
      "metadata": {
        "colab": {
          "base_uri": "https://localhost:8080/"
        },
        "id": "xTqZErmo3Hvt",
        "outputId": "40e68c14-c968-4c87-f4aa-e49ee8d045a3"
      },
      "source": [
        "a=int(input(\"Enter the first number:\"))\r\n",
        "b=int(input(\"Enter the second number:\"))\r\n",
        "quotient=a//b\r\n",
        "remainder=a%b\r\n",
        "print(\"quotient is:\" ,quotient)\r\n",
        "print(\"remainder is:\",remainder)\r\n",
        "  "
      ],
      "execution_count": null,
      "outputs": [
        {
          "output_type": "stream",
          "text": [
            "Enter the first number:30\n",
            "Enter the second number:4\n",
            "quotient is: 7\n",
            "remainder is: 2\n"
          ],
          "name": "stdout"
        }
      ]
    },
    {
      "cell_type": "code",
      "metadata": {
        "colab": {
          "base_uri": "https://localhost:8080/"
        },
        "id": "WpzUK-QCo_dI",
        "outputId": "db2d799a-7507-4d01-b8b1-15221e650c35"
      },
      "source": [
        "n=int(input(\"Enter the number:\"))\r\n",
        "for i in range(1,21):\r\n",
        "  print(n,\"*\",i,\"=\",n*i)"
      ],
      "execution_count": null,
      "outputs": [
        {
          "output_type": "stream",
          "text": [
            "Enter the number:5\n",
            "5 * 1 = 5\n",
            "5 * 2 = 10\n",
            "5 * 3 = 15\n",
            "5 * 4 = 20\n",
            "5 * 5 = 25\n",
            "5 * 6 = 30\n",
            "5 * 7 = 35\n",
            "5 * 8 = 40\n",
            "5 * 9 = 45\n",
            "5 * 10 = 50\n",
            "5 * 11 = 55\n",
            "5 * 12 = 60\n",
            "5 * 13 = 65\n",
            "5 * 14 = 70\n",
            "5 * 15 = 75\n",
            "5 * 16 = 80\n",
            "5 * 17 = 85\n",
            "5 * 18 = 90\n",
            "5 * 19 = 95\n",
            "5 * 20 = 100\n"
          ],
          "name": "stdout"
        }
      ]
    },
    {
      "cell_type": "code",
      "metadata": {
        "colab": {
          "base_uri": "https://localhost:8080/"
        },
        "id": "nQ-izMiztHY5",
        "outputId": "aa566599-c5f0-49b2-920e-4e636c6fe7a0"
      },
      "source": [
        "n=int(input(\"Enter number:\\n\"))\r\n",
        "temp=n\r\n",
        "rev=0\r\n",
        "while (n>0):\r\n",
        "  dig=n%10\r\n",
        "  rev=rev*10+dig\r\n",
        "  n=n//10\r\n",
        "if (temp==rev):\r\n",
        "  print(\"The number is a palindrome\")\r\n",
        "else:\r\n",
        "  print(\"The number is not a palindrome\")\r\n"
      ],
      "execution_count": null,
      "outputs": [
        {
          "output_type": "stream",
          "text": [
            "Enter number:\n",
            "212\n",
            "The number is a palindrome\n"
          ],
          "name": "stdout"
        }
      ]
    },
    {
      "cell_type": "code",
      "metadata": {
        "colab": {
          "base_uri": "https://localhost:8080/"
        },
        "id": "sn7Ek8xBznkz",
        "outputId": "71fa1f71-6131-41ec-b3a7-de86c831bec6"
      },
      "source": [
        "a=int(input(\"Enter first number:\\n\"))\r\n",
        "b=int(input(\"Enter second number:\\n\"))\r\n",
        "if (a>b):\r\n",
        "  min1=a\r\n",
        "else:\r\n",
        "  min1=b\r\n",
        "while (1):\r\n",
        "  if (min1%a==0 and min1%b==0):\r\n",
        "    print(\"LCM of two numbers is:\",min1)\r\n",
        "    break\r\n",
        "  min1=min1+1"
      ],
      "execution_count": null,
      "outputs": [
        {
          "output_type": "stream",
          "text": [
            "Enter first number:\n",
            "3\n",
            "Enter second number:\n",
            "5\n",
            "LCM of two numbers is: 15\n"
          ],
          "name": "stdout"
        }
      ]
    }
  ]
}