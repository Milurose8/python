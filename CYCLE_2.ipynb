{
  "nbformat": 4,
  "nbformat_minor": 0,
  "metadata": {
    "colab": {
      "name": "CYCLE 2",
      "provenance": [],
      "collapsed_sections": [],
      "authorship_tag": "ABX9TyMQ0SVbx1hGTu0Z0JG2Xeum"
    },
    "kernelspec": {
      "name": "python3",
      "display_name": "Python 3"
    }
  },
  "cells": [
    {
      "cell_type": "code",
      "metadata": {
        "id": "0EcBVWkTiOYJ",
        "colab": {
          "base_uri": "https://localhost:8080/"
        },
        "outputId": "70f5db78-96d7-4d1d-8944-efeb0f636efd"
      },
      "source": [
        "#18\r\n",
        "dict1={'manu':5,'sam':6,'jovan':7,'john':6}\r\n",
        "dict2={'jaison':8,'justin':3,'Riya':9}\r\n",
        "dict1.update(dict2)\r\n",
        "print('updated dictinary1:')\r\n",
        "print(dict1)"
      ],
      "execution_count": null,
      "outputs": [
        {
          "output_type": "stream",
          "text": [
            "updated dictinary1:\n",
            "{'manu': 5, 'sam': 6, 'jovan': 7, 'john': 6, 'jaison': 8, 'justin': 3, 'Riya': 9}\n"
          ],
          "name": "stdout"
        }
      ]
    },
    {
      "cell_type": "code",
      "metadata": {
        "colab": {
          "base_uri": "https://localhost:8080/"
        },
        "id": "qgTaAC-q-1Go",
        "outputId": "0eb88603-3130-4442-f1a6-5524f228a358"
      },
      "source": [
        "#19\r\n",
        "a=int(input(\"Enter a:\"))\r\n",
        "b=int(input(\"Enter b:\"))\r\n",
        "if a<b:\r\n",
        "  smaller=a\r\n",
        "else:\r\n",
        "  smaller=b\r\n",
        "for i in range(1,smaller+1):\r\n",
        "  if a%i==0 and b%i==0:\r\n",
        "    gcd=i\r\n",
        "\r\n",
        "print(\"The gcd is\",gcd)\r\n"
      ],
      "execution_count": null,
      "outputs": [
        {
          "output_type": "stream",
          "text": [
            "Enter a:10\n",
            "Enter b:4\n",
            "The gcd is 2\n"
          ],
          "name": "stdout"
        }
      ]
    },
    {
      "cell_type": "code",
      "metadata": {
        "colab": {
          "base_uri": "https://localhost:8080/"
        },
        "id": "B1eDsw6edqh7",
        "outputId": "4be07340-16e6-414c-d81a-c1eb254f61a4"
      },
      "source": [
        "#14\r\n",
        "a=int(input(\"Enter the number:\"))\r\n",
        "n1=int(\"%s\"%a)\r\n",
        "n2=int(\"%s%s\"%(a,a))\r\n",
        "n3=int(\"%s%s%s\"%(a,a,a))\r\n",
        "print(n1+n2+n3)"
      ],
      "execution_count": null,
      "outputs": [
        {
          "output_type": "stream",
          "text": [
            "Enter the number:4\n",
            "492\n"
          ],
          "name": "stdout"
        }
      ]
    },
    {
      "cell_type": "code",
      "metadata": {
        "colab": {
          "base_uri": "https://localhost:8080/"
        },
        "id": "aeK09TQ5jlad",
        "outputId": "7e6af61e-d41f-4d71-b38a-db05bbe272a8"
      },
      "source": [
        "#11\r\n",
        "n1=int(input(\"Enter first number:\"))\r\n",
        "n2=int(input(\"Enter second number:\"))\r\n",
        "n3=int(input(\"Enter third number\"))\r\n",
        "if n1>n2 and n1>n3:\r\n",
        "  print(\"Biggestn number is:\",n1)\r\n",
        "elif n2>n3:\r\n",
        "    print(\"Biggest number is:\",n2)\r\n",
        "else:\r\n",
        "  print(\"Biggest number is:\",n3)"
      ],
      "execution_count": null,
      "outputs": [
        {
          "output_type": "stream",
          "text": [
            "Enter first number:4\n",
            "Enter second number:8\n",
            "Enter third number9\n",
            "Biggest number is: 9\n"
          ],
          "name": "stdout"
        }
      ]
    },
    {
      "cell_type": "code",
      "metadata": {
        "colab": {
          "base_uri": "https://localhost:8080/"
        },
        "id": "oxlJPj1GHLal",
        "outputId": "be23686d-ad84-4205-dbe4-356c2f04ba60"
      },
      "source": [
        "x=[ ]\r\n",
        "n=int(input(\"Enter list items:\"))\r\n",
        "for i in range(1,n+1):\r\n",
        "  a=int(input(\"Enter the values of %d item:\"%i))\r\n",
        "  x.append(a)\r\n",
        "for i in x:\r\n",
        "    if(i%2 == 0):\r\n",
        "      x.remove(i)\r\n",
        "print(\"list after removing even numbers:\")\r\n",
        "print(x)"
      ],
      "execution_count": null,
      "outputs": [
        {
          "output_type": "stream",
          "text": [
            "Enter list items:4\n",
            "Enter the values of 1 item:3\n",
            "Enter the values of 2 item:5\n",
            "Enter the values of 3 item:7\n",
            "Enter the values of 4 item:8\n",
            "list after removing even numbers:\n",
            "[3, 5, 7]\n"
          ],
          "name": "stdout"
        }
      ]
    },
    {
      "cell_type": "code",
      "metadata": {
        "colab": {
          "base_uri": "https://localhost:8080/"
        },
        "id": "18sGTb2ZmIa9",
        "outputId": "8331ba6b-2c16-4ac6-b2e4-88ce1896b148"
      },
      "source": [
        "#10\r\n",
        "import math\r\n",
        "radius=float(input(\"Enter the radius of the circle:\"))\r\n",
        "area=math.pi*radius*radius\r\n",
        "print(\"Area of the circle is:{0}\".format(area))"
      ],
      "execution_count": null,
      "outputs": [
        {
          "output_type": "stream",
          "text": [
            "Enter the radius of the circle:10\n",
            "Area of the circle is:314.1592653589793\n"
          ],
          "name": "stdout"
        }
      ]
    },
    {
      "cell_type": "code",
      "metadata": {
        "colab": {
          "base_uri": "https://localhost:8080/"
        },
        "id": "g4ufeyZiR7Mu",
        "outputId": "7be4329a-674c-453b-f49b-479dd36337b2"
      },
      "source": [
        "color_list=[\"Red\",\"Green\",\"While\",\"Black\"]\r\n",
        "print(color_list[0],color_list[-1])"
      ],
      "execution_count": null,
      "outputs": [
        {
          "output_type": "stream",
          "text": [
            "Red Black\n"
          ],
          "name": "stdout"
        }
      ]
    },
    {
      "cell_type": "code",
      "metadata": {
        "colab": {
          "base_uri": "https://localhost:8080/"
        },
        "id": "EhqfFBKkvwDZ",
        "outputId": "f61edaeb-7aff-439f-c074-92640d782b5e"
      },
      "source": [
        "color_list1=set([\"white\",\"Black\",\"Red\"])\r\n",
        "color_list2=([\"Red\",\"Green\"])\r\n",
        "print(color_list1.difference(color_list2))"
      ],
      "execution_count": null,
      "outputs": [
        {
          "output_type": "stream",
          "text": [
            "{'Black', 'white'}\n"
          ],
          "name": "stdout"
        }
      ]
    },
    {
      "cell_type": "code",
      "metadata": {
        "colab": {
          "base_uri": "https://localhost:8080/"
        },
        "id": "vbDN1pe7YWaU",
        "outputId": "4adfb967-04ba-4a21-ddef-7a47c32a7f39"
      },
      "source": [
        "#16\r\n",
        "x=input(\"Enter the first string:\")\r\n",
        "y=input(\"Enter the second string:\")\r\n",
        "def chars(x,y):\r\n",
        "  a=y[:2] + x[2:]\r\n",
        "  b=x[:2] + y[2:]\r\n",
        "  return a + ' ' + b\r\n",
        "print(chars(x,y))"
      ],
      "execution_count": null,
      "outputs": [
        {
          "output_type": "stream",
          "text": [
            "Enter the first string:abc\n",
            "Enter the second string:xyz\n",
            "xyc abz\n"
          ],
          "name": "stdout"
        }
      ]
    },
    {
      "cell_type": "code",
      "metadata": {
        "colab": {
          "base_uri": "https://localhost:8080/"
        },
        "id": "sGkZQOuRcfhT",
        "outputId": "ce0587f5-79b9-4875-e8d4-c3d76200b1db"
      },
      "source": [
        "c=[]\r\n",
        "x=int(input(\"Enter the limit:\"))\r\n",
        "for i in range(1,x+1):\r\n",
        "  a=input()\r\n",
        "  c.append(a)\r\n",
        "print(c)\r\n",
        "print(c[0],c[-1])"
      ],
      "execution_count": null,
      "outputs": [
        {
          "output_type": "stream",
          "text": [
            "Enter the limit:4\n",
            "yellow\n",
            "blue\n",
            "green\n",
            "black\n",
            "['yellow', 'blue', 'green', 'black']\n",
            "yellow black\n"
          ],
          "name": "stdout"
        }
      ]
    },
    {
      "cell_type": "code",
      "metadata": {
        "colab": {
          "base_uri": "https://localhost:8080/"
        },
        "id": "wpyBr77ddwbx",
        "outputId": "cd95dc81-83c3-4c56-bfcc-14bcc4282d78"
      },
      "source": [
        "#12\r\n",
        "filename=input(\"Enter the filename:\" )\r\n",
        "x=filename.split(\".\")\r\n",
        "print(\"The extension of the file is\",x[-1])"
      ],
      "execution_count": null,
      "outputs": [
        {
          "output_type": "stream",
          "text": [
            "Enter the filename:abc.java\n",
            "The extension of the file is java\n"
          ],
          "name": "stdout"
        }
      ]
    },
    {
      "cell_type": "code",
      "metadata": {
        "colab": {
          "base_uri": "https://localhost:8080/"
        },
        "id": "dJcptZpMubnN",
        "outputId": "c67200b2-1434-4634-c03e-0d7de9a3e60f"
      },
      "source": [
        "#2\r\n",
        "s=int(input(\"Enter starting year:\"))\r\n",
        "e=int(input(\"Enter ending year:\"))\r\n",
        "print(\"leap year between\",s,\"and\",e)\r\n",
        "while(s<=e):\r\n",
        "  if((s%400==0) or ((s%4==0) and (s%100!=0))):\r\n",
        "    print(s)\r\n",
        "  s=s+1\r\n"
      ],
      "execution_count": null,
      "outputs": [
        {
          "output_type": "stream",
          "text": [
            "Enter starting year:2000\n",
            "Enter ending year:2021\n",
            "leap year between 2000 and 2021\n",
            "2000\n",
            "2004\n",
            "2008\n",
            "2012\n",
            "2016\n",
            "2020\n"
          ],
          "name": "stdout"
        }
      ]
    },
    {
      "cell_type": "code",
      "metadata": {
        "colab": {
          "base_uri": "https://localhost:8080/"
        },
        "id": "3n6JuEUyxt4H",
        "outputId": "08dfb55b-6427-479a-ead6-4ba3c8c201e1"
      },
      "source": [
        "#3(a)\r\n",
        "list1 = [11,-21,45,66,-56,-43]\r\n",
        "for num in list1:\r\n",
        "  if num>=0:\r\n",
        "    print(num, end =\" \")"
      ],
      "execution_count": null,
      "outputs": [
        {
          "output_type": "stream",
          "text": [
            "11 45 66 "
          ],
          "name": "stdout"
        }
      ]
    },
    {
      "cell_type": "code",
      "metadata": {
        "colab": {
          "base_uri": "https://localhost:8080/"
        },
        "id": "FogMgIdhCfgO",
        "outputId": "a84f67e7-d115-461d-d930-6c35b7bd1d13"
      },
      "source": [
        "#3(c)\r\n",
        "w=input(\"Enter any Word:\")\r\n",
        "v=[l for l in w if l in 'aeiou']\r\n",
        "print(\"List of vowels in\",w,\":\",v)"
      ],
      "execution_count": null,
      "outputs": [
        {
          "output_type": "stream",
          "text": [
            "Enter any Word:umberlla\n",
            "List of vowels in umberlla : ['u', 'e', 'a']\n"
          ],
          "name": "stdout"
        }
      ]
    },
    {
      "cell_type": "code",
      "metadata": {
        "colab": {
          "base_uri": "https://localhost:8080/"
        },
        "id": "5_ZvR4K7EBfm",
        "outputId": "1b477017-767f-4aac-9541-52e189d4deff"
      },
      "source": [
        "#3(d)\r\n",
        "w=input(\"Enter any word:\")\r\n",
        "for l in range (len(w)):\r\n",
        "  print(\"ASCII value is\" ,w[l],\"is\",ord(w[l]))"
      ],
      "execution_count": null,
      "outputs": [
        {
          "output_type": "stream",
          "text": [
            "Enter any word:box\n",
            "ASCII value is b is 98\n",
            "ASCII value is o is 111\n",
            "ASCII value is x is 120\n"
          ],
          "name": "stdout"
        }
      ]
    },
    {
      "cell_type": "code",
      "metadata": {
        "colab": {
          "base_uri": "https://localhost:8080/"
        },
        "id": "QA5VLNczIKrt",
        "outputId": "5fcd08d2-ed48-4d98-8d5d-bfe838408a57"
      },
      "source": [
        "#5\r\n",
        "x=[]\r\n",
        "n=int(input(\"Enter any integer:\"))\r\n",
        "for i in range (1,n+1):\r\n",
        "  a=int(input())\r\n",
        "  if (a>100):\r\n",
        "    x.append('over')\r\n",
        "  else:\r\n",
        "      x.append(a)\r\n",
        "print(\"Modified list:\",x)"
      ],
      "execution_count": null,
      "outputs": [
        {
          "output_type": "stream",
          "text": [
            "Enter any integer:4\n",
            "20\n",
            "80\n",
            "200\n",
            "100\n",
            "Modified list: [20, 80, 'over', 100]\n"
          ],
          "name": "stdout"
        }
      ]
    },
    {
      "cell_type": "code",
      "metadata": {
        "colab": {
          "base_uri": "https://localhost:8080/"
        },
        "id": "xhCzCb0jJy0w",
        "outputId": "488a1774-2c99-4919-9caa-fa0dfb462f89"
      },
      "source": [
        "#9\r\n",
        "def change(str):\r\n",
        "  return str[-1] + str[1:-1] + str[:1]\r\n",
        "str=input(\"Enter any string:\")\r\n",
        "print(\"Modfied string:\",change(str))"
      ],
      "execution_count": null,
      "outputs": [
        {
          "output_type": "stream",
          "text": [
            "Enter any string:python\n",
            "Modfied string: nythop\n"
          ],
          "name": "stdout"
        }
      ]
    },
    {
      "cell_type": "code",
      "metadata": {
        "colab": {
          "base_uri": "https://localhost:8080/"
        },
        "id": "3bXv1vPkKoU_",
        "outputId": "d87e9a38-5435-4e73-8a7b-62a44604877e"
      },
      "source": [
        "#8\r\n",
        "str=input(\"Enter any string:\")\r\n",
        "def rep_ch(str1):\r\n",
        "  char=str1[0]\r\n",
        "  str1=str1.replace(char,'$')\r\n",
        "  str1=char+str1[1:]\r\n",
        "  return str1\r\n",
        "print(rep_ch(str))"
      ],
      "execution_count": null,
      "outputs": [
        {
          "output_type": "stream",
          "text": [
            "Enter any string:onion\n",
            "oni$n\n"
          ],
          "name": "stdout"
        }
      ]
    },
    {
      "cell_type": "code",
      "metadata": {
        "colab": {
          "base_uri": "https://localhost:8080/"
        },
        "id": "pMaW1zqRPCKx",
        "outputId": "d822e27d-a38a-4880-c5c7-d040f1e40df7"
      },
      "source": [
        "#6\r\n",
        "l=[]\r\n",
        "x=int(input(\"Enter the limit:\"))\r\n",
        "for i in range(1,x+1):\r\n",
        "  x=input(\"Enter the first name:\")\r\n",
        "  l.append(x)\r\n",
        "  count=x.count('a')\r\n",
        "  print(\"Number of time a is present in name:\",count)\r\n"
      ],
      "execution_count": null,
      "outputs": [
        {
          "output_type": "stream",
          "text": [
            "Enter the limit:2\n",
            "Enter the first name:amala\n",
            "Number of time a is present in name: 3\n",
            "Enter the first name:anisha\n",
            "Number of time a is present in name: 2\n"
          ],
          "name": "stdout"
        }
      ]
    },
    {
      "cell_type": "code",
      "metadata": {
        "colab": {
          "base_uri": "https://localhost:8080/"
        },
        "id": "o2t-qPrGJhXN",
        "outputId": "7aa2a53f-f51c-4155-efda-cf119eb11bae"
      },
      "source": [
        "#7\r\n",
        "x=[]\r\n",
        "a=int(input(\"Enter limit for list1:\"))\r\n",
        "for i in range (1,a+1):\r\n",
        "  a=int(input())\r\n",
        "  x.append(a)\r\n",
        "print(x)\r\n",
        "y=[]\r\n",
        "b=int(input(\"Enter limit for list2:\"))\r\n",
        "for i in range(1,b+1):\r\n",
        "  b=int(input())\r\n",
        "  y.append(b)\r\n",
        "print(y)\r\n",
        "if(len(x)==len(y)):\r\n",
        "  print(\"list1 and list2 are of same length ie\",len(x))\r\n",
        "else:\r\n",
        "  print(\"list1 and list2 are of different length. \")\r\n",
        "if(sum(x)==sum(y)):\r\n",
        "  print(\"list1 and list2 sums to the same value ie\",sum(x))\r\n",
        "else:\r\n",
        "  print(\"list1 and list2 sums up to different values.\")\r\n",
        "def common(x, y):\r\n",
        "    p=set(x)\r\n",
        "    q=set(y)\r\n",
        "    if len(p.intersection(q))>0:\r\n",
        "       return(p.intersection(q))\r\n",
        "    else:\r\n",
        "        return(\"no common elements\")\r\n",
        "print(\"value that occur in both lists is :\",common(x,y))"
      ],
      "execution_count": null,
      "outputs": [
        {
          "output_type": "stream",
          "text": [
            "Enter limit for list1:3\n",
            "9\n",
            "6\n",
            "3\n",
            "[9, 6, 3]\n",
            "Enter limit for list2:3\n",
            "9\n",
            "7\n",
            "2\n",
            "[9, 7, 2]\n",
            "list1 and list2 are of same length ie 3\n",
            "list1 and list2 sums to the same value ie 18\n",
            "value that occur in both lists is : {9}\n"
          ],
          "name": "stdout"
        }
      ]
    },
    {
      "cell_type": "code",
      "metadata": {
        "colab": {
          "base_uri": "https://localhost:8080/"
        },
        "id": "PKbQJIgYcf9L",
        "outputId": "8349749f-7f91-47a8-9d55-a73b897accdf"
      },
      "source": [
        "#4\r\n",
        "def word_count(str):\r\n",
        "    counts = dict()\r\n",
        "    words = str.split()\r\n",
        "    for word in words:\r\n",
        "        if word in counts:\r\n",
        "           counts[word] += 1\r\n",
        "        else:\r\n",
        "             counts[word] = 1\r\n",
        "    return counts\r\n",
        "str =input(\"Enter any text:\")\r\n",
        "print(word_count(str))"
      ],
      "execution_count": null,
      "outputs": [
        {
          "output_type": "stream",
          "text": [
            "Enter any text:The quick brown fox jumps over the lazy dog\n",
            "{'The': 1, 'quick': 1, 'brown': 1, 'fox': 1, 'jumps': 1, 'over': 1, 'the': 1, 'lazy': 1, 'dog': 1}\n"
          ],
          "name": "stdout"
        }
      ]
    },
    {
      "cell_type": "code",
      "metadata": {
        "colab": {
          "base_uri": "https://localhost:8080/"
        },
        "id": "IfuVyCeCenCy",
        "outputId": "22b58a7d-8dbc-47f6-b92c-c5e076e6830a"
      },
      "source": [
        "#3(b)\r\n",
        "x=[]\r\n",
        "n=int(input(\"Enter list of items:\"))\r\n",
        "for i in range (1,n+1):\r\n",
        "    a=int(input(\"Enter the value of %d item:\"%i))\r\n",
        "    x.append(a)\r\n",
        "b=(num**2 for num in x)\r\n",
        "print(\"Initial list of N numbers:\",x)\r\n",
        "y=list(b)\r\n",
        "print(\"Square list of N numbers :\",y)"
      ],
      "execution_count": null,
      "outputs": [
        {
          "output_type": "stream",
          "text": [
            "Enter list of items:4\n",
            "Enter the value of 1 item:1\n",
            "Enter the value of 2 item:2\n",
            "Enter the value of 3 item:3\n",
            "Enter the value of 4 item:4\n",
            "Initial list of N numbers: [1, 2, 3, 4]\n",
            "Square list of N numbers : [1, 4, 9, 16]\n"
          ],
          "name": "stdout"
        }
      ]
    },
    {
      "cell_type": "code",
      "metadata": {
        "colab": {
          "base_uri": "https://localhost:8080/"
        },
        "id": "suC77JTkk9Yc",
        "outputId": "5603695a-aeac-49cf-dc91-25801aa9346d"
      },
      "source": [
        "#17\r\n",
        "d={'carl':40,'alan':2,'bob':1,'danny':3}\r\n",
        "l=list(d.items())\r\n",
        "l.sort()\r\n",
        "print(\"Ascending order is:\",l)\r\n",
        "l=list(d.items())\r\n",
        "l.sort(reverse = True)\r\n",
        "print(\"Descending order is:\",l)"
      ],
      "execution_count": null,
      "outputs": [
        {
          "output_type": "stream",
          "text": [
            "Ascending order is: [('alan', 2), ('bob', 1), ('carl', 40), ('danny', 3)]\n",
            "Descending order is: [('danny', 3), ('carl', 40), ('bob', 1), ('alan', 2)]\n"
          ],
          "name": "stdout"
        }
      ]
    },
    {
      "cell_type": "code",
      "metadata": {
        "colab": {
          "base_uri": "https://localhost:8080/"
        },
        "id": "AHdRZ2cGnqEU",
        "outputId": "2c0d1bbb-144a-4cf8-9c3d-b5f75632373c"
      },
      "source": [
        "#1\r\n",
        "n=input(\"Enter your house number:\")\r\n",
        "hname=input(\"Enter your house name:\")\r\n",
        "country=input(\"Enter your country:\")\r\n",
        "state=input(\"Enter your state:\")\r\n",
        "district=input(\"Enter your district:\")\r\n",
        "pin=int(input(\"Enter your postcode:\"))\r\n",
        "print(\"\\nAddress Details :\\n  \\nHousenumber :\",n,\"\\nHouse :\",hname,\"\\nCountry : \",country,\"\\nState : \",state,\"\\nPostcode : \",pin)\r\n"
      ],
      "execution_count": null,
      "outputs": [
        {
          "output_type": "stream",
          "text": [
            "Enter your house number:512\n",
            "Enter your house name:vadakkemulanjanal\n",
            "Enter your country:India\n",
            "Enter your state:kerala\n",
            "Enter your district:kottayam\n",
            "Enter your postcode:686651\n",
            "\n",
            "Address Details :\n",
            "  \n",
            "Housenumber : 512 \n",
            "House : vadakkemulanjanal \n",
            "Country :  India \n",
            "State :  kerala \n",
            "Postcode :  686651\n"
          ],
          "name": "stdout"
        }
      ]
    }
  ]
}