{
  "nbformat": 4,
  "nbformat_minor": 0,
  "metadata": {
    "colab": {
      "name": "CYCLE-3",
      "provenance": [],
      "collapsed_sections": [],
      "authorship_tag": "ABX9TyMD+8aqAqyvrJ4A1GY81mzj"
    },
    "kernelspec": {
      "name": "python3",
      "display_name": "Python 3"
    }
  },
  "cells": [
    {
      "cell_type": "code",
      "metadata": {
        "id": "oBQ4B9LaPmTY",
        "colab": {
          "base_uri": "https://localhost:8080/"
        },
        "outputId": "891e3959-731f-4c07-b964-5b806ffb7fc2"
      },
      "source": [
        "num=int(input(\"Enter a number:\"))\r\n",
        "factorial=1\r\n",
        "if num<0:\r\n",
        "  print(\"Factorial does not exist for negative numbers\")\r\n",
        "elif num == 0:\r\n",
        "    print(\"The factorial of 0 is 1\")\r\n",
        "else:\r\n",
        "    for i in range(1,num+1):\r\n",
        "      factorial=factorial*i\r\n",
        "    print(\"The factorial of\",num,\"is\",factorial)"
      ],
      "execution_count": null,
      "outputs": [
        {
          "output_type": "stream",
          "text": [
            "Enter a number:7\n",
            "The factorial of 7 is 5040\n"
          ],
          "name": "stdout"
        }
      ]
    },
    {
      "cell_type": "code",
      "metadata": {
        "colab": {
          "base_uri": "https://localhost:8080/"
        },
        "id": "YDvtRZo-TByl",
        "outputId": "5c55654c-c23e-49d2-efa9-eed53fc7aa59"
      },
      "source": [
        "num=int(input(\"Enter the number of terms:\"))\r\n",
        "n1,n2=0,1\r\n",
        "count = 0\r\n",
        "if num<= 0:\r\n",
        "  print(\"Enter a positive number\")\r\n",
        "elif num == 1:\r\n",
        "  print(\"Fibonacci sequence upto\",num,\":\")\r\n",
        "  print(n1)\r\n",
        "else:\r\n",
        "  print(\"Fibonacci sequence:\")\r\n",
        "  while count < num:\r\n",
        "    print(n1)\r\n",
        "    nth= n1+ n2\r\n",
        "    n1 = n2\r\n",
        "    n2 = nth\r\n",
        "    count +=1"
      ],
      "execution_count": null,
      "outputs": [
        {
          "output_type": "stream",
          "text": [
            "Enter the number of terms:7\n",
            "Fibonacci sequence:\n",
            "0\n",
            "1\n",
            "1\n",
            "2\n",
            "3\n",
            "5\n",
            "8\n"
          ],
          "name": "stdout"
        }
      ]
    },
    {
      "cell_type": "code",
      "metadata": {
        "colab": {
          "base_uri": "https://localhost:8080/"
        },
        "id": "zp0LW7UyIWu9",
        "outputId": "f7160a82-8010-4a9b-f790-2b1b47f5990f"
      },
      "source": [
        "num=int(input(\"Enter a number:\"))\r\n",
        "print(\"The factors of\",num,\"are:\")\r\n",
        "for i in range(1,num+1):\r\n",
        "  if num%i == 0:\r\n",
        "    print(i)"
      ],
      "execution_count": null,
      "outputs": [
        {
          "output_type": "stream",
          "text": [
            "Enter a number:6\n",
            "The factors of 6 are:\n",
            "1\n",
            "2\n",
            "3\n",
            "6\n"
          ],
          "name": "stdout"
        }
      ]
    },
    {
      "cell_type": "code",
      "metadata": {
        "colab": {
          "base_uri": "https://localhost:8080/"
        },
        "id": "GLSSBaplMLyG",
        "outputId": "5e979aba-557f-4ade-d8a3-cfe1f63a2782"
      },
      "source": [
        "rows=int(input(\"Enter the rows:\"))\r\n",
        "for i in range(rows+1):\r\n",
        "  for j in range(1,i+1):\r\n",
        "    print('* ',end='')\r\n",
        "  print(\"\")\r\n",
        "    "
      ],
      "execution_count": null,
      "outputs": [
        {
          "output_type": "stream",
          "text": [
            "Enter the rows:5\n",
            "\n",
            "* \n",
            "* * \n",
            "* * * \n",
            "* * * * \n",
            "* * * * * \n"
          ],
          "name": "stdout"
        }
      ]
    },
    {
      "cell_type": "code",
      "metadata": {
        "colab": {
          "base_uri": "https://localhost:8080/"
        },
        "id": "_7awzrX5tpR7",
        "outputId": "e36ce5e7-c15a-41f6-cd9f-c7dbffe5eb87"
      },
      "source": [
        "sentence=input(\"Enter any sentence\")\r\n",
        "print(sentence)\r\n",
        "words=sentence.split()\r\n",
        "print(words)\r\n",
        "long_word_length=len(words[0])\r\n",
        "for i in words:\r\n",
        "  word_length=len(i)\r\n",
        "  if word_length>long_word_length:\r\n",
        "    long_word_length=word_length\r\n",
        "    currentword=i\r\n",
        "print(\"Longest word is:\",currentword)\r\n",
        "print(\"length is:\",long_word_length)"
      ],
      "execution_count": null,
      "outputs": [
        {
          "output_type": "stream",
          "text": [
            "Enter any sentenceHELLO PYTHON\n",
            "HELLO PYTHON\n",
            "['HELLO', 'PYTHON']\n",
            "Longest word is: PYTHON\n",
            "length is: 6\n"
          ],
          "name": "stdout"
        }
      ]
    },
    {
      "cell_type": "code",
      "metadata": {
        "colab": {
          "base_uri": "https://localhost:8080/"
        },
        "id": "zTTfDxjqFFmB",
        "outputId": "b2405560-40f6-4600-c37b-5a9e5907049d"
      },
      "source": [
        "a=\"ly\"\r\n",
        "string=input(\"Enter your string\\n\")\r\n",
        "if (string[-3:]!=\"ing\"):\r\n",
        "  print(string+\"ing\")\r\n",
        "elif(string[-3:]==\"ing\"):\r\n",
        "  print(string.replace(\"ing\",\"ly\"))"
      ],
      "execution_count": null,
      "outputs": [
        {
          "output_type": "stream",
          "text": [
            "Enter your string\n",
            "eating\n",
            "eatly\n"
          ],
          "name": "stdout"
        }
      ]
    },
    {
      "cell_type": "code",
      "metadata": {
        "colab": {
          "base_uri": "https://localhost:8080/"
        },
        "id": "VUiG7pQpHycl",
        "outputId": "0868711e-a9cb-4e00-b8c6-ef18e034ca59"
      },
      "source": [
        "def frequency(str1):\r\n",
        "   dict={}\r\n",
        "   for n in str1:\r\n",
        "     keys=dict.keys()\r\n",
        "     if n in keys:\r\n",
        "         dict[n]=dict[n]+1\r\n",
        "     else:\r\n",
        "        dict[n]=1\r\n",
        "   return dict\r\n",
        "print(frequency(\"aaammmzzz\"))"
      ],
      "execution_count": null,
      "outputs": [
        {
          "output_type": "stream",
          "text": [
            "{'a': 3, 'm': 3, 'z': 3}\n"
          ],
          "name": "stdout"
        }
      ]
    },
    {
      "cell_type": "code",
      "metadata": {
        "id": "a6aHxevlWJfJ",
        "colab": {
          "base_uri": "https://localhost:8080/"
        },
        "outputId": "7b757c57-177d-49f7-87df-399fede7748f"
      },
      "source": [
        "x=lambda l,b: l*b\r\n",
        "print(\"Area of rectangle:\",x(10,4))\r\n",
        "y=lambda a:a**2\r\n",
        "print(\"Area of square:\",y(9))\r\n",
        "z=lambda h,b:(1/2)*h*b\r\n",
        "print(\"The area of triangle:\",z(5,4))"
      ],
      "execution_count": null,
      "outputs": [
        {
          "output_type": "stream",
          "text": [
            "Area of rectangle: 40\n",
            "Area of square: 81\n",
            "The area of triangle: 10.0\n"
          ],
          "name": "stdout"
        }
      ]
    },
    {
      "cell_type": "code",
      "metadata": {
        "id": "Mfe-H3gHIww3",
        "colab": {
          "base_uri": "https://localhost:8080/"
        },
        "outputId": "1756bdec-5a58-4cca-cc13-d623d337bc66"
      },
      "source": [
        "new=[]\r\n",
        "limit=int(input(\"Enter your limit\\n\"))\r\n",
        "sum=0\r\n",
        "for i in range(0,limit):\r\n",
        "  list=int(input(\"Enter your element\\n\"))\r\n",
        "  new.append(list)\r\n",
        "  sum=sum+list\r\n",
        "print(\"The entered list is\",new)\r\n",
        "print(\"The sum of all elements in the list is :\",sum)"
      ],
      "execution_count": null,
      "outputs": [
        {
          "output_type": "stream",
          "text": [
            "Enter your limit\n",
            "5\n",
            "Enter your element\n",
            "1\n",
            "Enter your element\n",
            "2\n",
            "Enter your element\n",
            "3\n",
            "Enter your element\n",
            "4\n",
            "Enter your element\n",
            "5\n",
            "The entered list is [1, 2, 3, 4, 5]\n",
            "The sum of all elements in the list is : 15\n"
          ],
          "name": "stdout"
        }
      ]
    },
    {
      "cell_type": "code",
      "metadata": {
        "id": "s6b9DETW-fEY"
      },
      "source": [
        "import math\r\n",
        "list=[]\r\n",
        "n1=int(input(\"Enter your 1st limit\\n\"))\r\n",
        "n2=int(input(\"Enter your 2nd limit\\n\"))\r\n",
        "for i in range(n1,n2):\r\n",
        "  root=math.sqrt(i)\r\n",
        "  if (i%2==0 and int(root)**2==i):\r\n",
        "    list.append(i)\r\n",
        "print(\"Entered list is\",list)"
      ],
      "execution_count": null,
      "outputs": []
    },
    {
      "cell_type": "code",
      "metadata": {
        "colab": {
          "base_uri": "https://localhost:8080/"
        },
        "id": "ZFO6KePYBevz",
        "outputId": "78525a53-ffc7-4089-a18b-e579a729060e"
      },
      "source": [
        "rows=int(input(\"Enter your number\\n\"))\r\n",
        "for i in range(1,rows+1):\r\n",
        "  for j in range(1,i+1):\r\n",
        "    print(i*j,\"\\t\",end=\"\")\r\n",
        "  print(\"\")"
      ],
      "execution_count": null,
      "outputs": [
        {
          "output_type": "stream",
          "text": [
            "Enter your number\n",
            "4\n",
            "1 \t\n",
            "2 \t4 \t\n",
            "3 \t6 \t9 \t\n",
            "4 \t8 \t12 \t16 \t\n"
          ],
          "name": "stdout"
        }
      ]
    }
  ]
}