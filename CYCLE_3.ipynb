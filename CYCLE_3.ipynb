{
  "nbformat": 4,
  "nbformat_minor": 0,
  "metadata": {
    "colab": {
      "name": "CYCLE-3",
      "provenance": [],
      "collapsed_sections": [],
      "authorship_tag": "ABX9TyOFr3zjyEAmAxrMiIX5/NmR",
      "include_colab_link": true
    },
    "kernelspec": {
      "name": "python3",
      "display_name": "Python 3"
    }
  },
  "cells": [
    {
      "cell_type": "markdown",
      "metadata": {
        "id": "view-in-github",
        "colab_type": "text"
      },
      "source": [
        "<a href=\"https://colab.research.google.com/github/Milurose8/python/blob/main/CYCLE_3.ipynb\" target=\"_parent\"><img src=\"https://colab.research.google.com/assets/colab-badge.svg\" alt=\"Open In Colab\"/></a>"
      ]
    },
    {
      "cell_type": "code",
      "metadata": {
        "id": "oBQ4B9LaPmTY",
        "colab": {
          "base_uri": "https://localhost:8080/"
        },
        "outputId": "891e3959-731f-4c07-b964-5b806ffb7fc2"
      },
      "source": [
        "num=int(input(\"Enter a number:\"))\r\n",
        "factorial=1\r\n",
        "if num<0:\r\n",
        "  print(\"Factorial does not exist for negative numbers\")\r\n",
        "elif num == 0:\r\n",
        "    print(\"The factorial of 0 is 1\")\r\n",
        "else:\r\n",
        "    for i in range(1,num+1):\r\n",
        "      factorial=factorial*i\r\n",
        "    print(\"The factorial of\",num,\"is\",factorial)"
      ],
      "execution_count": null,
      "outputs": [
        {
          "output_type": "stream",
          "text": [
            "Enter a number:7\n",
            "The factorial of 7 is 5040\n"
          ],
          "name": "stdout"
        }
      ]
    },
    {
      "cell_type": "code",
      "metadata": {
        "colab": {
          "base_uri": "https://localhost:8080/"
        },
        "id": "YDvtRZo-TByl",
        "outputId": "5c55654c-c23e-49d2-efa9-eed53fc7aa59"
      },
      "source": [
        "num=int(input(\"Enter the number of terms:\"))\r\n",
        "n1,n2=0,1\r\n",
        "count = 0\r\n",
        "if num<= 0:\r\n",
        "  print(\"Enter a positive number\")\r\n",
        "elif num == 1:\r\n",
        "  print(\"Fibonacci sequence upto\",num,\":\")\r\n",
        "  print(n1)\r\n",
        "else:\r\n",
        "  print(\"Fibonacci sequence:\")\r\n",
        "  while count < num:\r\n",
        "    print(n1)\r\n",
        "    nth= n1+ n2\r\n",
        "    n1 = n2\r\n",
        "    n2 = nth\r\n",
        "    count +=1"
      ],
      "execution_count": null,
      "outputs": [
        {
          "output_type": "stream",
          "text": [
            "Enter the number of terms:7\n",
            "Fibonacci sequence:\n",
            "0\n",
            "1\n",
            "1\n",
            "2\n",
            "3\n",
            "5\n",
            "8\n"
          ],
          "name": "stdout"
        }
      ]
    }
  ]
}