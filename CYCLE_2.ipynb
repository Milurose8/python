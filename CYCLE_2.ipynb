{
  "nbformat": 4,
  "nbformat_minor": 0,
  "metadata": {
    "colab": {
      "name": "CYCLE 2",
      "provenance": [],
      "collapsed_sections": [],
      "authorship_tag": "ABX9TyN8NGUUFHNkV6/vPzVGD9Wp"
    },
    "kernelspec": {
      "name": "python3",
      "display_name": "Python 3"
    }
  },
  "cells": [
    {
      "cell_type": "code",
      "metadata": {
        "id": "0EcBVWkTiOYJ",
        "colab": {
          "base_uri": "https://localhost:8080/"
        },
        "outputId": "70f5db78-96d7-4d1d-8944-efeb0f636efd"
      },
      "source": [
        "dict1={'manu':5,'sam':6,'jovan':7,'john':6}\r\n",
        "dict2={'jaison':8,'justin':3,'Riya':9}\r\n",
        "dict1.update(dict2)\r\n",
        "print('updated dictinary1:')\r\n",
        "print(dict1)"
      ],
      "execution_count": null,
      "outputs": [
        {
          "output_type": "stream",
          "text": [
            "updated dictinary1:\n",
            "{'manu': 5, 'sam': 6, 'jovan': 7, 'john': 6, 'jaison': 8, 'justin': 3, 'Riya': 9}\n"
          ],
          "name": "stdout"
        }
      ]
    },
    {
      "cell_type": "code",
      "metadata": {
        "colab": {
          "base_uri": "https://localhost:8080/"
        },
        "id": "qgTaAC-q-1Go",
        "outputId": "0eb88603-3130-4442-f1a6-5524f228a358"
      },
      "source": [
        "a=int(input(\"Enter a:\"))\r\n",
        "b=int(input(\"Enter b:\"))\r\n",
        "if a<b:\r\n",
        "  smaller=a\r\n",
        "else:\r\n",
        "  smaller=b\r\n",
        "for i in range(1,smaller+1):\r\n",
        "  if a%i==0 and b%i==0:\r\n",
        "    gcd=i\r\n",
        "\r\n",
        "print(\"The gcd is\",gcd)\r\n"
      ],
      "execution_count": null,
      "outputs": [
        {
          "output_type": "stream",
          "text": [
            "Enter a:10\n",
            "Enter b:4\n",
            "The gcd is 2\n"
          ],
          "name": "stdout"
        }
      ]
    },
    {
      "cell_type": "code",
      "metadata": {
        "colab": {
          "base_uri": "https://localhost:8080/"
        },
        "id": "B1eDsw6edqh7",
        "outputId": "fdf8cf5f-69a0-4307-ab19-cd0e89ac7bd3"
      },
      "source": [
        "a=int(input(\"Enter the number:\"))\r\n",
        "n1=int(\"%s\"%a)\r\n",
        "n2=int(\"%s%s\"%(a,a))\r\n",
        "n3=int(\"%s%s%s\"%(a,a,a))\r\n",
        "print(n1+n2+n3)"
      ],
      "execution_count": null,
      "outputs": [
        {
          "output_type": "stream",
          "text": [
            "Enter the number:4\n",
            "492\n"
          ],
          "name": "stdout"
        }
      ]
    },
    {
      "cell_type": "code",
      "metadata": {
        "colab": {
          "base_uri": "https://localhost:8080/"
        },
        "id": "aeK09TQ5jlad",
        "outputId": "7e6af61e-d41f-4d71-b38a-db05bbe272a8"
      },
      "source": [
        "n1=int(input(\"Enter first number:\"))\r\n",
        "n2=int(input(\"Enter second number:\"))\r\n",
        "n3=int(input(\"Enter third number\"))\r\n",
        "if n1>n2 and n1>n3:\r\n",
        "  print(\"Biggestn number is:\",n1)\r\n",
        "elif n2>n3:\r\n",
        "    print(\"Biggest number is:\",n2)\r\n",
        "else:\r\n",
        "  print(\"Biggest number is:\",n3)"
      ],
      "execution_count": null,
      "outputs": [
        {
          "output_type": "stream",
          "text": [
            "Enter first number:4\n",
            "Enter second number:8\n",
            "Enter third number9\n",
            "Biggest number is: 9\n"
          ],
          "name": "stdout"
        }
      ]
    },
    {
      "cell_type": "code",
      "metadata": {
        "colab": {
          "base_uri": "https://localhost:8080/"
        },
        "id": "18sGTb2ZmIa9",
        "outputId": "8331ba6b-2c16-4ac6-b2e4-88ce1896b148"
      },
      "source": [
        "import math\r\n",
        "radius=float(input(\"Enter the radius of the circle:\"))\r\n",
        "area=math.pi*radius*radius\r\n",
        "print(\"Area of the circle is:{0}\".format(area))"
      ],
      "execution_count": null,
      "outputs": [
        {
          "output_type": "stream",
          "text": [
            "Enter the radius of the circle:10\n",
            "Area of the circle is:314.1592653589793\n"
          ],
          "name": "stdout"
        }
      ]
    }
  ]
}